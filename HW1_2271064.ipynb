{
 "cells": [
  {
   "cell_type": "markdown",
   "id": "bcd77479",
   "metadata": {},
   "source": [
    "### MLP 하이퍼파라미터 튜닝 실험 🔍\n",
    "\n",
    "<table>\n",
    "  <tr>\n",
    "    <td style=\"vertical-align: top; padding-right: 20px; border: none;\">\n",
    "      <p>MNIST 데이터셋을 활용하여 MLP의 주요 하이퍼파라미터 변화가 모델의 성능에 미치는 영향을 분석하는 실험입니다.</p>\n",
    "      <b>실험:</b>\n",
    "      <ol>\n",
    "        <li>베이스라인 설정</li>\n",
    "        <li>네트워크 구조 (깊이/너비)</li>\n",
    "        <li>활성화 함수</li>\n",
    "        <li>최적화 방법 (옵티마이저/학습률)</li>\n",
    "      </ol>\n",
    "    </td>\n",
    "    <td style=\"border: none;\">\n",
    "      <img src=\"mnist_sample.png\" width=\"300\"><br>\n",
    "      <em>MNIST Dataset</em>\n",
    "    </td>\n",
    "  </tr>\n",
    "</table>\n",
    "\n",
    "---"
   ]
  },
  {
   "cell_type": "code",
   "execution_count": null,
   "id": "1a7e7137",
   "metadata": {
    "vscode": {
     "languageId": "plaintext"
    }
   },
   "outputs": [],
   "source": []
  }
 ],
 "metadata": {
  "language_info": {
   "name": "python"
  }
 },
 "nbformat": 4,
 "nbformat_minor": 5
}

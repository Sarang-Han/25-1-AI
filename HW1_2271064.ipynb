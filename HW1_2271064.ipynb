{
 "cells": [
  {
   "cell_type": "markdown",
   "id": "5d973431",
   "metadata": {},
   "source": [
    "## **MLP 하이퍼파라미터 튜닝 실험** 🔍\n",
    "\n",
    "- 다층 퍼셉트론 모델에서 주요 하이퍼파라미터 조정에 따른 성능 변화를 분석하는 실험입니다.\n",
    "- 본 문서는 해당 실험의 설계, 과정 및 결과를 기술합니다.\n",
    "\n",
    "> **평가 지표:** 테스트 정확도, 테스트 손실, 총 훈련 시간\n",
    "\n",
    "<br>\n",
    "\n",
    "**실험**\n",
    "1. 베이스라인 구현\n",
    "2. 네트워크 구조 (깊이)\n",
    "3. 네트워크 구조 (너비)\n",
    "4. 활성화 함수\n",
    "5. 옵티마이저\n",
    "6. 학습률\n",
    "\n",
    "<br>\n",
    "\n",
    "**사용할 데이터셋**\n",
    "\n",
    "<img src=\"https://drive.google.com/uc?id=1B5vd9j6cyJ4Eopde6G--45rA0qkssmVd\" width=\"330\">\n",
    "\n",
    "- **MNIST**: 0부터 9까지의 손글씨 숫자 이미지로 구성된 표준 데이터셋\n",
    "- **구성**: 60,000개의 학습 데이터와 10,000개의 테스트 데이터\n",
    "- **형식**: 각 이미지는 28×28 픽셀의 그레이스케일 형식\n",
    "\n",
    "<br>\n",
    "\n",
    "---\n",
    "\n",
    "**작성자**: 2271064 한사랑"
   ]
  },
  {
   "cell_type": "markdown",
   "id": "79895bc4",
   "metadata": {},
   "source": [
    "## **Import Libraries**\n",
    "\n",
    "구현에 필요한 핵심 라이브러리를 가져오는 단계"
   ]
  },
  {
   "cell_type": "code",
   "execution_count": null,
   "id": "81a63589",
   "metadata": {},
   "outputs": [],
   "source": [
    "%pip install numpy\n",
    "%pip install matplotlib\n",
    "%pip install seaborn\n",
    "%pip install torch torchvision"
   ]
  },
  {
   "cell_type": "code",
   "execution_count": 1,
   "id": "2f554771",
   "metadata": {},
   "outputs": [
    {
     "name": "stdout",
     "output_type": "stream",
     "text": [
      "Using device: cpu\n"
     ]
    }
   ],
   "source": [
    "# 데이터 처리 및 수학 연산을 위한 라이브러리\n",
    "import numpy as np\n",
    "import matplotlib.pyplot as plt\n",
    "import seaborn as sns\n",
    "\n",
    "# PyTorch 관련 라이브러리\n",
    "import torch\n",
    "import torch.nn as nn\n",
    "import torch.optim as optim\n",
    "from torch.utils.data import Dataset, DataLoader\n",
    "import torchvision\n",
    "from torchvision import datasets, transforms  # transforms 추가\n",
    "from torchvision.transforms import ToTensor\n",
    "\n",
    "# GPU 사용 가능 여부 확인\n",
    "device = torch.device('cuda' if torch.cuda.is_available() else 'cpu')\n",
    "print(f'Using device: {device}')"
   ]
  },
  {
   "cell_type": "markdown",
   "id": "881c1737",
   "metadata": {},
   "source": [
    "## **Load and Preprocess Data**\n",
    "MNIST 데이터셋을 로드하고 전처리하는 단계\n",
    "\n",
    "- **데이터 로드**: PyTorch의 datasets.MNIST 클래스를 사용하여 손글씨 숫자 이미지 데이터를 다운로드.\n",
    "\n",
    "- **데이터 분할**: 원본 학습 데이터셋을 8:2 비율로 학습셋과 검증셋으로 나눔.\n",
    "\n",
    "- **데이터셋 확인**: 각 데이터셋의 크기를 출력하여 확인."
   ]
  },
  {
   "cell_type": "markdown",
   "id": "caac37cb",
   "metadata": {},
   "source": [
    "### 데이터셋 로드 및 전처리"
   ]
  },
  {
   "cell_type": "code",
   "execution_count": 2,
   "id": "d5d556af",
   "metadata": {},
   "outputs": [],
   "source": [
    "# -- 제공된 코드 --\n",
    "\n",
    "# Define transformations: convert images to tensor and normalize them\n",
    "transform = transforms.Compose([\n",
    "    transforms.ToTensor(),\n",
    "    transforms.Normalize((0.1307,), (0.3081,))\n",
    "])\n",
    "\n",
    "# Download and load the training dataset\n",
    "trainset = torchvision.datasets.MNIST(root='./data', train=True, download=True, transform=transform)\n",
    "trainloader = torch.utils.data.DataLoader(trainset, batch_size=64, shuffle=True)\n",
    "\n",
    "# Download and load the test dataset\n",
    "testset = torchvision.datasets.MNIST(root='./data', train=False, download=True, transform=transform)\n",
    "testloader = torch.utils.data.DataLoader(testset, batch_size=1000, shuffle=False)"
   ]
  },
  {
   "cell_type": "markdown",
   "id": "4d013303",
   "metadata": {},
   "source": [
    "### 데이터셋 분할 및 시각화"
   ]
  },
  {
   "cell_type": "code",
   "execution_count": 3,
   "id": "ac85d156",
   "metadata": {},
   "outputs": [
    {
     "name": "stdout",
     "output_type": "stream",
     "text": [
      "학습 데이터셋 크기: 48000\n",
      "검증 데이터셋 크기: 12000\n",
      "테스트 데이터셋 크기: 10000\n"
     ]
    },
    {
     "data": {
      "image/png": "[encoded data removed]",
      "text/plain": [
       "<Figure size 500x200 with 10 Axes>"
      ]
     },
     "metadata": {},
     "output_type": "display_data"
    }
   ],
   "source": [
    "# 학습 데이터셋을 학습/검증 세트로 분할 (8:2 비율)\n",
    "train_size = int(0.8 * len(trainset))\n",
    "val_size = len(trainset) - train_size\n",
    "train_dataset, val_dataset = torch.utils.data.random_split(trainset, [train_size, val_size])\n",
    "\n",
    "# DataLoader 생성\n",
    "batch_size = 64\n",
    "train_loader = torch.utils.data.DataLoader(train_dataset, batch_size=batch_size, shuffle=True)\n",
    "val_loader = torch.utils.data.DataLoader(val_dataset, batch_size=batch_size, shuffle=False)\n",
    "test_loader = torch.utils.data.DataLoader(testset, batch_size=1000, shuffle=False)\n",
    "\n",
    "# 데이터셋 크기 확인\n",
    "print(f\"학습 데이터셋 크기: {len(train_dataset)}\")\n",
    "print(f\"검증 데이터셋 크기: {len(val_dataset)}\")\n",
    "print(f\"테스트 데이터셋 크기: {len(testset)}\")\n",
    "\n",
    "# MNIST 데이터 시각화\n",
    "plt.figure(figsize=(5, 2))\n",
    "for i in range(10):\n",
    "    plt.subplot(2, 5, i+1)\n",
    "    img, label = trainset[i]\n",
    "    img = img.squeeze().numpy()\n",
    "    plt.imshow(img, cmap='gray')\n",
    "    plt.title(f'Label: {label}')\n",
    "    plt.axis('off')\n",
    "plt.tight_layout()\n",
    "plt.show()"
   ]
  },
  {
   "cell_type": "markdown",
   "id": "d01439b9",
   "metadata": {},
   "source": [
    "## **실험 1: 베이스라인 모델 (Baseline Model)**\n",
    "\n",
    "**모델 아키텍처**는 다음과 같습니다.\n",
    "\n",
    "- **입력층**: 784 unit (28×28 픽셀 이미지를 펼친 형태)\n",
    "- **은닉층 1**: 32 unit, Sigmoid 활성화 함수\n",
    "- **은닉층 2**: 32 unit, Sigmoid 활성화 함수\n",
    "- **출력층**: 10 unit (0-9 class)\n",
    "\n",
    "<br>"
   ]
  },
  {
   "cell_type": "markdown",
   "id": "bb5071a1",
   "metadata": {},
   "source": [
    "### 베이스라인 모델 클래스 정의"
   ]
  },
  {
   "cell_type": "code",
   "execution_count": 4,
   "id": "9534518c",
   "metadata": {},
   "outputs": [
    {
     "name": "stdout",
     "output_type": "stream",
     "text": [
      "BaselineMLP(\n",
      "  (fc1): Linear(in_features=784, out_features=32, bias=True)\n",
      "  (fc2): Linear(in_features=32, out_features=32, bias=True)\n",
      "  (fc3): Linear(in_features=32, out_features=10, bias=True)\n",
      "  (sigmoid): Sigmoid()\n",
      ")\n"
     ]
    }
   ],
   "source": [
    "class BaselineMLP(nn.Module):\n",
    "    def __init__(self):\n",
    "        super(BaselineMLP, self).__init__()\n",
    "        \n",
    "        # 네트워크 구조 정의 (입력 784 -> 은닉층 32 -> 은닉층 32 -> 출력 10)\n",
    "        self.fc1 = nn.Linear(28*28, 32)  # 입력층 -> 첫 번째 은닉층\n",
    "        self.fc2 = nn.Linear(32, 32)     # 첫 번째 은닉층 -> 두 번째 은닉층\n",
    "        self.fc3 = nn.Linear(32, 10)     # 두 번째 은닉층 -> 출력층\n",
    "        \n",
    "        # 시그모이드 활성화 함수\n",
    "        self.sigmoid = nn.Sigmoid()\n",
    "    \n",
    "    def forward(self, x):\n",
    "        # 입력 이미지 평탄화 (배치크기, 1, 28, 28) -> (배치크기, 784)\n",
    "        x = x.view(-1, 28*28)\n",
    "        \n",
    "        # 순전파\n",
    "        x = self.sigmoid(self.fc1(x))  # 첫 번째 은닉층 + 활성화 함수\n",
    "        x = self.sigmoid(self.fc2(x))  # 두 번째 은닉층 + 활성화 함수\n",
    "        x = self.fc3(x)                # 출력층\n",
    "        \n",
    "        return x\n",
    "    \n",
    "# 모델 인스턴스 생성\n",
    "model = BaselineMLP().to(device)\n",
    "print(model)"
   ]
  },
  {
   "cell_type": "markdown",
   "id": "de3dbc95",
   "metadata": {},
   "source": [
    "### 손실 함수 및 옵티마이저 정의"
   ]
  },
  {
   "cell_type": "code",
   "execution_count": 5,
   "id": "d58c0415",
   "metadata": {},
   "outputs": [],
   "source": [
    "# 손실 함수 정의 (Cross Entropy Loss)\n",
    "criterion = nn.CrossEntropyLoss()\n",
    "\n",
    "# 옵티마이저 정의 (SGD, 학습률=0.1)\n",
    "learning_rate = 0.1\n",
    "optimizer = optim.SGD(model.parameters(), lr=learning_rate)"
   ]
  },
  {
   "cell_type": "markdown",
   "id": "4bc55226",
   "metadata": {},
   "source": [
    "### 모델 학습 및 평가"
   ]
  },
  {
   "cell_type": "markdown",
   "id": "00a64005",
   "metadata": {},
   "source": [
    "### 학습 및 평가 함수 정의"
   ]
  },
  {
   "cell_type": "code",
   "execution_count": null,
   "id": "f8bdc167",
   "metadata": {},
   "outputs": [],
   "source": [
    "import time\n",
    "from datetime import timedelta\n",
    "\n",
    "# 학습 및 검증 함수\n",
    "def train_model(model, train_loader, val_loader, criterion, optimizer, device, num_epochs=10):\n",
    "    # 결과 저장용 리스트\n",
    "    train_losses, train_accs = [], []\n",
    "    val_losses, val_accs = [], []\n",
    "    \n",
    "    # 전체 학습 시간 측정 시작\n",
    "    total_start_time = time.time()\n",
    "    \n",
    "    print(\"학습 시작...\")\n",
    "    print(\"-\" * 50)\n",
    "    \n",
    "    for epoch in range(num_epochs):\n",
    "        # 학습 모드\n",
    "        model.train()\n",
    "        running_loss = 0.0\n",
    "        correct = 0\n",
    "        total = 0\n",
    "        \n",
    "        # 학습 단계\n",
    "        for inputs, labels in train_loader:\n",
    "            inputs, labels = inputs.to(device), labels.to(device)\n",
    "            \n",
    "            optimizer.zero_grad()\n",
    "            outputs = model(inputs)\n",
    "            loss = criterion(outputs, labels)\n",
    "            loss.backward()\n",
    "            optimizer.step()\n",
    "            \n",
    "            running_loss += loss.item() * inputs.size(0)\n",
    "            _, predicted = torch.max(outputs, 1)\n",
    "            total += labels.size(0)\n",
    "            correct += (predicted == labels).sum().item()\n",
    "        \n",
    "        # 학습 평균 손실 및 정확도 계산\n",
    "        epoch_train_loss = running_loss / len(train_loader.dataset)\n",
    "        epoch_train_acc = 100 * (correct / total)\n",
    "        train_losses.append(epoch_train_loss)\n",
    "        train_accs.append(epoch_train_acc)\n",
    "        \n",
    "        # 검증 모드\n",
    "        model.eval()\n",
    "        running_loss = 0.0\n",
    "        correct = 0\n",
    "        total = 0\n",
    "        \n",
    "        # 검증 단계\n",
    "        with torch.no_grad():\n",
    "            for inputs, labels in val_loader:\n",
    "                inputs, labels = inputs.to(device), labels.to(device)\n",
    "                \n",
    "                outputs = model(inputs)\n",
    "                loss = criterion(outputs, labels)\n",
    "                \n",
    "                running_loss += loss.item() * inputs.size(0)\n",
    "                _, predicted = torch.max(outputs, 1)\n",
    "                total += labels.size(0)\n",
    "                correct += (predicted == labels).sum().item()\n",
    "        \n",
    "        # 검증 평균 손실 및 정확도 계산\n",
    "        epoch_val_loss = running_loss / len(val_loader.dataset)\n",
    "        epoch_val_acc = 100 * (correct / total)\n",
    "        val_losses.append(epoch_val_loss)\n",
    "        val_accs.append(epoch_val_acc)\n",
    "        \n",
    "        # 결과 출력\n",
    "        print(f\"Epoch [{epoch+1}/{num_epochs}]\")\n",
    "        print(f\"Train - Loss: {epoch_train_loss:.4f}, Accuracy: {epoch_train_acc:.2f}%\")\n",
    "        print(f\"Valid - Loss: {epoch_val_loss:.4f}, Accuracy: {epoch_val_acc:.2f}%\")\n",
    "        print(\"-\" * 50)\n",
    "    \n",
    "    # 총 학습 시간 계산 및 출력\n",
    "    total_time = time.time() - total_start_time\n",
    "    print(f\"총 학습 시간: {str(timedelta(seconds=total_time))}\")\n",
    "    \n",
    "    return model, train_losses, train_accs, val_losses, val_accs, total_time"
   ]
  },
  {
   "cell_type": "markdown",
   "id": "b44c861b",
   "metadata": {},
   "source": [
    "### 테스트 함수 정의"
   ]
  },
  {
   "cell_type": "code",
   "execution_count": null,
   "id": "fbf84b59",
   "metadata": {},
   "outputs": [],
   "source": [
    "# 테스트 함수 정의\n",
    "def test_model(model, test_loader, criterion, device):\n",
    "    model.eval()\n",
    "    running_loss = 0.0\n",
    "    correct = 0\n",
    "    total = 0\n",
    "    \n",
    "    with torch.no_grad():\n",
    "        for inputs, labels in test_loader:\n",
    "            inputs, labels = inputs.to(device), labels.to(device)\n",
    "            \n",
    "            outputs = model(inputs)\n",
    "            loss = criterion(outputs, labels)\n",
    "            \n",
    "            running_loss += loss.item() * inputs.size(0)\n",
    "            _, predicted = torch.max(outputs, 1)\n",
    "            total += labels.size(0)\n",
    "            correct += (predicted == labels).sum().item()\n",
    "    \n",
    "    test_loss = running_loss / len(test_loader.dataset)\n",
    "    test_acc = 100 * (correct / total)\n",
    "    \n",
    "    print(\"-\" * 50)\n",
    "    print(f\"테스트 손실: {test_loss:.4f}\")\n",
    "    print(f\"테스트 정확도: {test_acc:.2f}%\")\n",
    "    \n",
    "    return test_loss, test_acc"
   ]
  },
  {
   "cell_type": "markdown",
   "id": "11eb3646",
   "metadata": {},
   "source": [
    "### 모델 학습 실행"
   ]
  },
  {
   "cell_type": "code",
   "execution_count": 8,
   "id": "713639f0",
   "metadata": {},
   "outputs": [
    {
     "name": "stdout",
     "output_type": "stream",
     "text": [
      "학습 시작...\n",
      "--------------------------------------------------\n",
      "Epoch [1/10]\n",
      "Train - Loss: 1.5868, Accuracy: 51.22%\n",
      "Valid - Loss: 0.8392, Accuracy: 80.93%\n",
      "--------------------------------------------------\n",
      "Epoch [2/10]\n",
      "Train - Loss: 0.5794, Accuracy: 86.01%\n",
      "Valid - Loss: 0.4385, Accuracy: 88.62%\n",
      "--------------------------------------------------\n",
      "Epoch [3/10]\n",
      "Train - Loss: 0.3682, Accuracy: 90.40%\n",
      "Valid - Loss: 0.3291, Accuracy: 91.24%\n",
      "--------------------------------------------------\n",
      "Epoch [4/10]\n",
      "Train - Loss: 0.2904, Accuracy: 92.21%\n",
      "Valid - Loss: 0.2759, Accuracy: 92.53%\n",
      "--------------------------------------------------\n",
      "Epoch [5/10]\n",
      "Train - Loss: 0.2455, Accuracy: 93.41%\n",
      "Valid - Loss: 0.2439, Accuracy: 93.14%\n",
      "--------------------------------------------------\n",
      "Epoch [6/10]\n",
      "Train - Loss: 0.2141, Accuracy: 94.13%\n",
      "Valid - Loss: 0.2197, Accuracy: 93.53%\n",
      "--------------------------------------------------\n",
      "Epoch [7/10]\n",
      "Train - Loss: 0.1919, Accuracy: 94.77%\n",
      "Valid - Loss: 0.2022, Accuracy: 94.12%\n",
      "--------------------------------------------------\n",
      "Epoch [8/10]\n",
      "Train - Loss: 0.1744, Accuracy: 95.26%\n",
      "Valid - Loss: 0.1893, Accuracy: 94.53%\n",
      "--------------------------------------------------\n",
      "Epoch [9/10]\n",
      "Train - Loss: 0.1606, Accuracy: 95.57%\n",
      "Valid - Loss: 0.1805, Accuracy: 94.67%\n",
      "--------------------------------------------------\n",
      "Epoch [10/10]\n",
      "Train - Loss: 0.1491, Accuracy: 95.82%\n",
      "Valid - Loss: 0.1717, Accuracy: 94.91%\n",
      "--------------------------------------------------\n",
      "총 학습 시간: 0:00:28.210183\n",
      "--------------------------------------------------\n",
      "테스트 손실: 0.1684\n",
      "테스트 정확도: 95.11%\n",
      "--------------------------------------------------\n",
      "베이스라인 모델 학습 완료!\n"
     ]
    }
   ],
   "source": [
    "# 모델 학습 및 평가 실행\n",
    "num_epochs = 10\n",
    "model, train_losses, train_accs, val_losses, val_accs, total_time = train_model(\n",
    "    model, train_loader, val_loader, criterion, optimizer, device, num_epochs)\n",
    "\n",
    "# 테스트 세트에 대한 최종 평가\n",
    "test_loss, test_acc = test_model(model, test_loader, criterion, device)\n",
    "\n",
    "# 실험 결과 저장\n",
    "baseline_results = {\n",
    "    'model': 'Baseline MLP',\n",
    "    'hidden_layers': '2 layers, 32 units each',\n",
    "    'activation': 'Sigmoid',\n",
    "    'optimizer': 'SGD',\n",
    "    'learning_rate': learning_rate,\n",
    "    'train_losses': train_losses,\n",
    "    'train_accs': train_accs,\n",
    "    'val_losses': val_losses,\n",
    "    'val_accs': val_accs,\n",
    "    'test_loss': test_loss,\n",
    "    'test_acc': test_acc,\n",
    "    'training_time': total_time\n",
    "}\n",
    "\n",
    "print(\"-\" * 50)\n",
    "print(\"베이스라인 모델 학습 완료!\")"
   ]
  },
  {
   "cell_type": "markdown",
   "id": "08b47bf7",
   "metadata": {},
   "source": [
    "### 베이스라인 모델 성능 시각화"
   ]
  },
  {
   "cell_type": "code",
   "execution_count": 20,
   "id": "a6921679",
   "metadata": {},
   "outputs": [
    {
     "data": {
      "image/png": "[encoded data removed]",
      "text/plain": [
       "<Figure size 800x400 with 2 Axes>"
      ]
     },
     "metadata": {},
     "output_type": "display_data"
    },
    {
     "name": "stdout",
     "output_type": "stream",
     "text": [
      "Test Accuracy: 95.11%\n",
      "Test Loss: 0.1684\n",
      "Training Time: 0:00:28.210183\n"
     ]
    },
    {
     "data": {
      "text/html": [
       "<div>\n",
       "<style scoped>\n",
       "    .dataframe tbody tr th:only-of-type {\n",
       "        vertical-align: middle;\n",
       "    }\n",
       "\n",
       "    .dataframe tbody tr th {\n",
       "        vertical-align: top;\n",
       "    }\n",
       "\n",
       "    .dataframe thead th {\n",
       "        text-align: right;\n",
       "    }\n",
       "</style>\n",
       "<table border=\"1\" class=\"dataframe\">\n",
       "  <thead>\n",
       "    <tr style=\"text-align: right;\">\n",
       "      <th></th>\n",
       "      <th>Model</th>\n",
       "      <th>Hidden Layers</th>\n",
       "      <th>Activation</th>\n",
       "      <th>Optimizer</th>\n",
       "      <th>Learning Rate</th>\n",
       "      <th>Test Accuracy (%)</th>\n",
       "      <th>Training Time (s)</th>\n",
       "    </tr>\n",
       "  </thead>\n",
       "  <tbody>\n",
       "    <tr>\n",
       "      <th>0</th>\n",
       "      <td>Baseline MLP</td>\n",
       "      <td>2 layers, 32 units each</td>\n",
       "      <td>Sigmoid</td>\n",
       "      <td>SGD</td>\n",
       "      <td>0.1</td>\n",
       "      <td>95.11</td>\n",
       "      <td>28.21</td>\n",
       "    </tr>\n",
       "  </tbody>\n",
       "</table>\n",
       "</div>"
      ],
      "text/plain": [
       "          Model            Hidden Layers Activation Optimizer  Learning Rate  \\\n",
       "0  Baseline MLP  2 layers, 32 units each    Sigmoid       SGD            0.1   \n",
       "\n",
       "  Test Accuracy (%) Training Time (s)  \n",
       "0             95.11             28.21  "
      ]
     },
     "metadata": {},
     "output_type": "display_data"
    }
   ],
   "source": [
    "# 학습 결과 시각화 함수\n",
    "def visualize_training_results(results):\n",
    "    plt.figure(figsize=(8, 4))\n",
    "    \n",
    "    # Loss 그래프\n",
    "    plt.subplot(1, 2, 1)\n",
    "    plt.plot(results['train_losses'], label='Train', marker='o', markersize=6, linestyle='-', linewidth=2)\n",
    "    plt.plot(results['val_losses'], label='Validation', marker='s', markersize=6, linestyle='--', linewidth=2)\n",
    "    plt.title('Loss over Epochs', fontsize=14)\n",
    "    plt.xlabel('Epochs', fontsize=12)\n",
    "    plt.ylabel('Loss', fontsize=12)\n",
    "    plt.grid(True, linestyle='--', alpha=0.6)\n",
    "    plt.legend(fontsize=12)\n",
    "    \n",
    "    # Accuracy 그래프\n",
    "    plt.subplot(1, 2, 2)\n",
    "    plt.plot(results['train_accs'], label='Train', marker='o', markersize=6, linestyle='-', linewidth=2)\n",
    "    plt.plot(results['val_accs'], label='Validation', marker='s', markersize=6, linestyle='--', linewidth=2)\n",
    "    plt.title('Accuracy over Epochs', fontsize=14)\n",
    "    plt.xlabel('Epochs', fontsize=12)\n",
    "    plt.ylabel('Accuracy (%)', fontsize=12)\n",
    "    plt.grid(True, linestyle='--', alpha=0.6)\n",
    "    plt.legend(fontsize=12)\n",
    "    \n",
    "    plt.tight_layout()\n",
    "    plt.show()\n",
    "    \n",
    "    # 테스트 결과 출력\n",
    "    print(f\"Test Accuracy: {results['test_acc']:.2f}%\")\n",
    "    print(f\"Test Loss: {results['test_loss']:.4f}\")\n",
    "    print(f\"Training Time: {timedelta(seconds=results['training_time'])}\")\n",
    "\n",
    "# 베이스라인 모델 학습 결과 시각화\n",
    "visualize_training_results(baseline_results)\n",
    "\n",
    "# 성능 요약 표시\n",
    "performance_summary = {\n",
    "    'Model': [baseline_results['model']],\n",
    "    'Hidden Layers': [baseline_results['hidden_layers']],\n",
    "    'Activation': [baseline_results['activation']],\n",
    "    'Optimizer': [baseline_results['optimizer']],\n",
    "    'Learning Rate': [baseline_results['learning_rate']],\n",
    "    'Test Accuracy (%)': [f\"{baseline_results['test_acc']:.2f}\"],\n",
    "    'Training Time (s)': [f\"{baseline_results['training_time']:.2f}\"]\n",
    "}\n",
    "\n",
    "# 결과 표 생성\n",
    "import pandas as pd\n",
    "summary_df = pd.DataFrame(performance_summary)\n",
    "display(summary_df)"
   ]
  }
 ],
 "metadata": {
  "kernelspec": {
   "display_name": ".venv",
   "language": "python",
   "name": "python3"
  },
  "language_info": {
   "codemirror_mode": {
    "name": "ipython",
    "version": 3
   },
   "file_extension": ".py",
   "mimetype": "text/x-python",
   "name": "python",
   "nbconvert_exporter": "python",
   "pygments_lexer": "ipython3",
   "version": "3.9.6"
  }
 },
 "nbformat": 4,
 "nbformat_minor": 5
}

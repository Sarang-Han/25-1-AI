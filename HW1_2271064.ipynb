{
 "cells": [
  {
   "cell_type": "markdown",
   "id": "5d973431",
   "metadata": {},
   "source": [
    "## **MLP 하이퍼파라미터 튜닝 실험** 🔍\n",
    "\n",
    "- 다층 퍼셉트론 모델에서 주요 하이퍼파라미터 조정에 따른 성능 변화를 분석하는 실험입니다.\n",
    "- 본 문서는 해당 실험의 설계, 과정 및 결과를 기술합니다.\n",
    "\n",
    "> **평가 지표:** 테스트 정확도, 테스트 손실, 총 훈련 시간.\n",
    "\n",
    "<br>\n",
    "\n",
    "**실험**\n",
    "1. 베이스라인 구현\n",
    "2. 네트워크 구조 (깊이)\n",
    "3. 네트워크 구조 (너비)\n",
    "4. 활성화 함수\n",
    "5. 옵티마이저\n",
    "6. 학습률\n",
    "\n",
    "<br>\n",
    "\n",
    "**사용할 데이터셋**\n",
    "\n",
    "<img src=\"https://drive.google.com/uc?id=1B5vd9j6cyJ4Eopde6G--45rA0qkssmVd\" width=\"330\">\n",
    "\n",
    "- **MNIST**: 0부터 9까지의 손글씨 숫자 이미지로 구성된 표준 데이터셋\n",
    "- **구성**: 60,000개의 학습 데이터와 10,000개의 테스트 데이터\n",
    "- **형식**: 각 이미지는 28×28 픽셀의 그레이스케일 형식\n",
    "\n",
    "<br>\n",
    "\n",
    "---\n",
    "\n",
    "**작성자**: 2271064 한사랑"
   ]
  },
  {
   "cell_type": "markdown",
   "id": "79895bc4",
   "metadata": {},
   "source": [
    "## **Import Libraries**\n",
    "\n",
    "구현에 필요한 핵심 라이브러리를 가져오는 단계"
   ]
  },
  {
   "cell_type": "code",
   "execution_count": null,
   "id": "81a63589",
   "metadata": {},
   "outputs": [],
   "source": [
    "%pip install numpy\n",
    "%pip install matplotlib\n",
    "%pip install seaborn\n",
    "%pip install torch torchvision"
   ]
  },
  {
   "cell_type": "code",
   "execution_count": 2,
   "id": "2f554771",
   "metadata": {},
   "outputs": [
    {
     "name": "stdout",
     "output_type": "stream",
     "text": [
      "Using device: cpu\n"
     ]
    }
   ],
   "source": [
    "# 데이터 처리 및 수학 연산을 위한 라이브러리\n",
    "import numpy as np\n",
    "import matplotlib.pyplot as plt\n",
    "import seaborn as sns\n",
    "\n",
    "# PyTorch 관련 라이브러리\n",
    "import torch\n",
    "import torch.nn as nn\n",
    "import torch.optim as optim\n",
    "from torch.utils.data import Dataset, DataLoader\n",
    "import torchvision\n",
    "from torchvision import datasets, transforms  # transforms 추가\n",
    "from torchvision.transforms import ToTensor\n",
    "\n",
    "# GPU 사용 가능 여부 확인\n",
    "device = torch.device('cuda' if torch.cuda.is_available() else 'cpu')\n",
    "print(f'Using device: {device}')"
   ]
  },
  {
   "cell_type": "markdown",
   "id": "881c1737",
   "metadata": {},
   "source": [
    "## **Load and Preprocess Data**\n",
    "MNIST 데이터셋을 로드하고 전처리하는 단계\n",
    "\n",
    "- **데이터 로드**: PyTorch의 datasets.MNIST 클래스를 사용하여 손글씨 숫자 이미지 데이터를 다운로드.\n",
    "\n",
    "- **데이터 분할**: 원본 학습 데이터셋을 8:2 비율로 학습셋과 검증셋으로 나눔.\n",
    "\n",
    "- **데이터셋 확인**: 각 데이터셋의 크기를 출력하여 확인."
   ]
  },
  {
   "cell_type": "code",
   "execution_count": null,
   "id": "d5d556af",
   "metadata": {},
   "outputs": [
    {
     "name": "stderr",
     "output_type": "stream",
     "text": [
      "100.0%\n",
      "100.0%\n",
      "100.0%\n",
      "100.0%\n"
     ]
    }
   ],
   "source": [
    "# -- 제공된 코드 --\n",
    "\n",
    "# Define transformations: convert images to tensor and normalize them\n",
    "transform = transforms.Compose([\n",
    "    transforms.ToTensor(),\n",
    "    transforms.Normalize((0.1307,), (0.3081,))\n",
    "])\n",
    "\n",
    "# Download and load the training dataset\n",
    "trainset = torchvision.datasets.MNIST(root='./data', train=True, download=True, transform=transform)\n",
    "trainloader = torch.utils.data.DataLoader(trainset, batch_size=64, shuffle=True)\n",
    "\n",
    "# Download and load the test dataset\n",
    "testset = torchvision.datasets.MNIST(root='./data', train=False, download=True, transform=transform)\n",
    "testloader = torch.utils.data.DataLoader(testset, batch_size=1000, shuffle=False)"
   ]
  },
  {
   "cell_type": "code",
   "execution_count": 5,
   "id": "ac85d156",
   "metadata": {},
   "outputs": [
    {
     "name": "stdout",
     "output_type": "stream",
     "text": [
      "학습 데이터셋 크기: 48000\n",
      "검증 데이터셋 크기: 12000\n",
      "테스트 데이터셋 크기: 10000\n"
     ]
    },
    {
     "data": {
      "image/png": "[encoded data removed]",
      "text/plain": [
       "<Figure size 500x200 with 10 Axes>"
      ]
     },
     "metadata": {},
     "output_type": "display_data"
    }
   ],
   "source": [
    "# 학습 데이터셋을 학습/검증 세트로 분할 (8:2 비율)\n",
    "train_size = int(0.8 * len(trainset))\n",
    "val_size = len(trainset) - train_size\n",
    "train_dataset, val_dataset = torch.utils.data.random_split(trainset, [train_size, val_size])\n",
    "\n",
    "# DataLoader 생성\n",
    "batch_size = 64\n",
    "train_loader = torch.utils.data.DataLoader(train_dataset, batch_size=batch_size, shuffle=True)\n",
    "val_loader = torch.utils.data.DataLoader(val_dataset, batch_size=batch_size, shuffle=False)\n",
    "test_loader = torch.utils.data.DataLoader(testset, batch_size=1000, shuffle=False)\n",
    "\n",
    "# 데이터셋 크기 확인\n",
    "print(f\"학습 데이터셋 크기: {len(train_dataset)}\")\n",
    "print(f\"검증 데이터셋 크기: {len(val_dataset)}\")\n",
    "print(f\"테스트 데이터셋 크기: {len(testset)}\")\n",
    "\n",
    "# MNIST 데이터 시각화\n",
    "plt.figure(figsize=(5, 2))\n",
    "for i in range(10):\n",
    "    plt.subplot(2, 5, i+1)\n",
    "    img, label = trainset[i]\n",
    "    img = img.squeeze().numpy()\n",
    "    plt.imshow(img, cmap='gray')\n",
    "    plt.title(f'Label: {label}')\n",
    "    plt.axis('off')\n",
    "plt.tight_layout()\n",
    "plt.show()"
   ]
  },
  {
   "cell_type": "markdown",
   "id": "d01439b9",
   "metadata": {},
   "source": [
    "## **실험 1: 베이스라인 모델 (Baseline Model)**\n",
    "\n",
    "**모델 아키텍처**는 다음과 같습니다.\n",
    "\n",
    "- **입력층**: 784 unit (28×28 픽셀 이미지를 펼친 형태)\n",
    "- **은닉층 1**: 32 unit, Sigmoid 활성화 함수\n",
    "- **은닉층 2**: 32 unit, Sigmoid 활성화 함수\n",
    "- **출력층**: 10 unit (0-9 class)\n",
    "\n",
    "<br>"
   ]
  },
  {
   "cell_type": "markdown",
   "id": "bb5071a1",
   "metadata": {},
   "source": [
    "### 베이스라인 모델 클래스 정의"
   ]
  },
  {
   "cell_type": "code",
   "execution_count": 10,
   "id": "9534518c",
   "metadata": {},
   "outputs": [
    {
     "name": "stdout",
     "output_type": "stream",
     "text": [
      "BaselineMLP(\n",
      "  (fc1): Linear(in_features=784, out_features=32, bias=True)\n",
      "  (fc2): Linear(in_features=32, out_features=32, bias=True)\n",
      "  (fc3): Linear(in_features=32, out_features=10, bias=True)\n",
      "  (sigmoid): Sigmoid()\n",
      ")\n"
     ]
    }
   ],
   "source": [
    "class BaselineMLP(nn.Module):\n",
    "    def __init__(self):\n",
    "        super(BaselineMLP, self).__init__()\n",
    "        \n",
    "        # 네트워크 구조 정의 (입력 784 -> 은닉층 32 -> 은닉층 32 -> 출력 10)\n",
    "        self.fc1 = nn.Linear(28*28, 32)  # 입력층 -> 첫 번째 은닉층\n",
    "        self.fc2 = nn.Linear(32, 32)     # 첫 번째 은닉층 -> 두 번째 은닉층\n",
    "        self.fc3 = nn.Linear(32, 10)     # 두 번째 은닉층 -> 출력층\n",
    "        \n",
    "        # 시그모이드 활성화 함수\n",
    "        self.sigmoid = nn.Sigmoid()\n",
    "    \n",
    "    def forward(self, x):\n",
    "        # 입력 이미지 평탄화 (배치크기, 1, 28, 28) -> (배치크기, 784)\n",
    "        x = x.view(-1, 28*28)\n",
    "        \n",
    "        # 순전파\n",
    "        x = self.sigmoid(self.fc1(x))  # 첫 번째 은닉층 + 활성화 함수\n",
    "        x = self.sigmoid(self.fc2(x))  # 두 번째 은닉층 + 활성화 함수\n",
    "        x = self.fc3(x)                # 출력층\n",
    "        \n",
    "        return x\n",
    "    \n",
    "# 모델 인스턴스 생성\n",
    "model = BaselineMLP().to(device)\n",
    "print(model)"
   ]
  },
  {
   "cell_type": "markdown",
   "id": "de3dbc95",
   "metadata": {},
   "source": [
    "### 손실 함수 및 옵티마이저 정의"
   ]
  },
  {
   "cell_type": "code",
   "execution_count": 9,
   "id": "d58c0415",
   "metadata": {},
   "outputs": [],
   "source": [
    "# 손실 함수 정의 (Cross Entropy Loss)\n",
    "criterion = nn.CrossEntropyLoss()\n",
    "\n",
    "# 옵티마이저 정의 (SGD, 학습률=0.1)\n",
    "learning_rate = 0.1\n",
    "optimizer = optim.SGD(model.parameters(), lr=learning_rate)"
   ]
  },
  {
   "cell_type": "markdown",
   "id": "4bc55226",
   "metadata": {},
   "source": [
    "### 모델 학습 및 평가"
   ]
  }
 ],
 "metadata": {
  "kernelspec": {
   "display_name": ".venv",
   "language": "python",
   "name": "python3"
  },
  "language_info": {
   "codemirror_mode": {
    "name": "ipython",
    "version": 3
   },
   "file_extension": ".py",
   "mimetype": "text/x-python",
   "name": "python",
   "nbconvert_exporter": "python",
   "pygments_lexer": "ipython3",
   "version": "3.9.6"
  }
 },
 "nbformat": 4,
 "nbformat_minor": 5
}
